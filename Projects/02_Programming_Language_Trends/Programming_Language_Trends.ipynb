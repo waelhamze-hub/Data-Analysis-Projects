{
 "cells": [
  {
   "cell_type": "markdown",
   "id": "12dc40f8",
   "metadata": {},
   "source": [
    "\n",
    "# PROGRAMMING LANGUAGE TRENDS — STACK OVERFLOW TAGS OVER TIME\n",
    "\n",
    "This notebook analyzes **Stack Overflow** tag usage over time to approximate the relative popularity of major programming languages.\n",
    "We clean the CSV export, reshape it to a time series by language, explore key patterns, and smooth the series with a rolling mean.\n"
   ]
  },
  {
   "cell_type": "code",
   "execution_count": null,
   "id": "aeafb421",
   "metadata": {},
   "outputs": [],
   "source": [
    "import pandas as pd\n",
    "import matplotlib.pyplot as plt\n",
    "\n",
    "pd.options.display.float_format = '{:,.0f}'.format"
   ]
  },
  {
   "cell_type": "markdown",
   "id": "579461d6",
   "metadata": {},
   "source": [
    "\n",
    "## Get the Data\n",
    "\n",
    "Use the provided `QueryResults.csv` or export your own from Stack Exchange Data Explorer (same schema):  \n",
    "- Query link: https://data.stackexchange.com/stackoverflow/query/675441/popular-programming-languages-per-over-time-eversql-com\n",
    "\n",
    "Expected CSV schema (header row present):\n",
    "- `DATE` — month (e.g., 2008-09-01 00:00:00)  \n",
    "- `TAG` — programming language tag (e.g., `python`, `java`)  \n",
    "- `POSTS` — number of posts with that tag in the month\n"
   ]
  },
  {
   "cell_type": "markdown",
   "id": "c568a03e",
   "metadata": {},
   "source": [
    "## Load & Inspect Data"
   ]
  },
  {
   "cell_type": "code",
   "execution_count": null,
   "id": "fad73d70",
   "metadata": {},
   "outputs": [],
   "source": [
    "# Read CSV (header=0 for the first row as header). If your file has different headers, adjust 'names' accordingly.\n",
    "df = pd.read_csv('QueryResults.csv', header=0, names=['DATE', 'TAG', 'POSTS'])\n",
    "print(\"Shape:\", df.shape)\n",
    "print(df.head())\n",
    "print(df.tail())\n",
    "\n",
    "print(\"\\nColumn counts:\")\n",
    "print(df.count())"
   ]
  },
  {
   "cell_type": "markdown",
   "id": "8e1a5d4e",
   "metadata": {},
   "source": [
    "## Clean Dates & Types"
   ]
  },
  {
   "cell_type": "code",
   "execution_count": null,
   "id": "659af514",
   "metadata": {},
   "outputs": [],
   "source": [
    "# Convert DATE to datetime and POSTS to numeric (defensive conversion)\n",
    "df['DATE'] = pd.to_datetime(df['DATE'], errors='coerce')\n",
    "df['POSTS'] = pd.to_numeric(df['POSTS'], errors='coerce')\n",
    "\n",
    "# Drop rows with missing key fields\n",
    "df = df.dropna(subset=['DATE', 'TAG', 'POSTS']).copy()\n",
    "\n",
    "print(\"Date range:\", df['DATE'].min(), \"→\", df['DATE'].max())\n",
    "print(\"Unique tags:\", df['TAG'].nunique())\n",
    "\n",
    "# Months of data per language\n",
    "months_per_tag = df.groupby('TAG')['POSTS'].count().sort_values()\n",
    "months_per_tag.head(), months_per_tag.tail()"
   ]
  },
  {
   "cell_type": "markdown",
   "id": "6fd355e3",
   "metadata": {},
   "source": [
    "## Reshape to Time Series by Language"
   ]
  },
  {
   "cell_type": "code",
   "execution_count": null,
   "id": "22db0ad7",
   "metadata": {},
   "outputs": [],
   "source": [
    "reshaped_df = df.pivot(index='DATE', columns='TAG', values='POSTS')\n",
    "print(\"Reshaped shape:\", reshaped_df.shape)\n",
    "print(reshaped_df.head())\n",
    "print(reshaped_df.tail())\n",
    "\n",
    "print(\"\\nEntries per language after pivot (non-null counts):\")\n",
    "print(reshaped_df.count())\n",
    "\n",
    "# Fill missing months with 0 posts for consistency\n",
    "reshaped_df = reshaped_df.fillna(0).sort_index()\n",
    "reshaped_df.head()"
   ]
  },
  {
   "cell_type": "markdown",
   "id": "3bbd939e",
   "metadata": {},
   "source": [
    "## Quick Plot: Single Language"
   ]
  },
  {
   "cell_type": "code",
   "execution_count": null,
   "id": "7d7f456a",
   "metadata": {},
   "outputs": [],
   "source": [
    "plt.figure(figsize=(12, 6))\n",
    "plt.plot(reshaped_df.index, reshaped_df['java'])\n",
    "plt.title('Monthly Posts: java')\n",
    "plt.xlabel('Date')\n",
    "plt.ylabel('Number of Posts')\n",
    "plt.show()"
   ]
  },
  {
   "cell_type": "markdown",
   "id": "6c26f5a5",
   "metadata": {},
   "source": [
    "## Compare Two Languages"
   ]
  },
  {
   "cell_type": "code",
   "execution_count": null,
   "id": "3e742291",
   "metadata": {},
   "outputs": [],
   "source": [
    "plt.figure(figsize=(12, 6))\n",
    "plt.plot(reshaped_df.index, reshaped_df['java'], linewidth=2, label='java')\n",
    "plt.plot(reshaped_df.index, reshaped_df['python'], linewidth=2, label='python')\n",
    "plt.xlabel('Date')\n",
    "plt.ylabel('Number of Posts')\n",
    "plt.title('Monthly Posts: Java vs Python')\n",
    "plt.legend()\n",
    "plt.show()"
   ]
  },
  {
   "cell_type": "markdown",
   "id": "1a39d687",
   "metadata": {},
   "source": [
    "## All Languages (Raw Monthly Posts)"
   ]
  },
  {
   "cell_type": "code",
   "execution_count": null,
   "id": "46f97ac6",
   "metadata": {},
   "outputs": [],
   "source": [
    "plt.figure(figsize=(16, 10))\n",
    "for column in reshaped_df.columns:\n",
    "    plt.plot(reshaped_df.index, reshaped_df[column], linewidth=2, label=column)\n",
    "\n",
    "plt.xlabel('Date')\n",
    "plt.ylabel('Number of Posts')\n",
    "plt.title('Stack Overflow Monthly Posts by Language Tag')\n",
    "plt.legend(fontsize=9, ncol=2)\n",
    "plt.show()"
   ]
  },
  {
   "cell_type": "markdown",
   "id": "17197522",
   "metadata": {},
   "source": [
    "\n",
    "# Smoothing with Rolling Mean\n",
    "\n",
    "Time series can be noisy. We’ll smooth using a **6‑month rolling mean** to better see medium-term trends.\n"
   ]
  },
  {
   "cell_type": "code",
   "execution_count": null,
   "id": "33376895",
   "metadata": {},
   "outputs": [],
   "source": [
    "roll_df = reshaped_df.rolling(window=6).mean()\n",
    "\n",
    "plt.figure(figsize=(16, 10))\n",
    "for column in roll_df.columns:\n",
    "    plt.plot(roll_df.index, roll_df[column], linewidth=2, label=column)\n",
    "\n",
    "plt.xlabel('Date')\n",
    "plt.ylabel('Number of Posts (6-mo avg)')\n",
    "plt.title('Stack Overflow Language Trends — 6‑Month Rolling Mean')\n",
    "plt.legend(fontsize=9, ncol=2)\n",
    "plt.show()"
   ]
  },
  {
   "cell_type": "markdown",
   "id": "5b699a67",
   "metadata": {},
   "source": [
    "## Totals & Rankings"
   ]
  },
  {
   "cell_type": "code",
   "execution_count": null,
   "id": "1159fc65",
   "metadata": {},
   "outputs": [],
   "source": [
    "# Total posts per language across the entire period\n",
    "totals = reshaped_df.sum().sort_values(ascending=False)\n",
    "print(\"Top languages by total posts:\")\n",
    "print(totals.head(10))"
   ]
  },
  {
   "cell_type": "markdown",
   "id": "a5c1d7c7",
   "metadata": {},
   "source": [
    "\n",
    "## Conclusion\n",
    "\n",
    "- The **pivoted time series** makes it easy to compare languages over time.\n",
    "- **Rolling averages** reveal medium-term trends that raw monthly series can hide.\n",
    "- Totals across the full period highlight the **most discussed languages** overall, but recency trends may differ.\n",
    "- For a fairer comparison across time, you might normalize by **total Stack Overflow activity** per month or compute **share of posts** per language.\n"
   ]
  }
 ],
 "metadata": {},
 "nbformat": 4,
 "nbformat_minor": 5
}
