{
 "cells": [
  {
   "cell_type": "markdown",
   "id": "44222ed3",
   "metadata": {},
   "source": [
    "# SALARIES BY COLLEGE MAJOR — EARNINGS, RISK & CAREER POTENTIAL\n",
    "\n",
    "A concise analysis of starting and mid-career salaries by U.S. college major, focusing on earnings, risk (spread), and potential.\n"
   ]
  },
  {
   "cell_type": "code",
   "execution_count": 1,
   "id": "66472700",
   "metadata": {},
   "outputs": [],
   "source": [
    "import pandas as pd\n",
    "import matplotlib.pyplot as plt\n",
    "\n",
    "pd.options.display.float_format = '{:,.2f}'.format"
   ]
  },
  {
   "cell_type": "markdown",
   "id": "1304908d",
   "metadata": {},
   "source": [
    "## Load the dataset"
   ]
  },
  {
   "cell_type": "code",
   "execution_count": 2,
   "id": "a8ba199e",
   "metadata": {},
   "outputs": [
    {
     "name": "stdout",
     "output_type": "stream",
     "text": [
      "Columns: ['Undergraduate Major', 'Starting Median Salary', 'Mid-Career Median Salary', 'Mid-Career 10th Percentile Salary', 'Mid-Career 90th Percentile Salary', 'Group']\n"
     ]
    },
    {
     "data": {
      "text/html": [
       "<div>\n",
       "<style scoped>\n",
       "    .dataframe tbody tr th:only-of-type {\n",
       "        vertical-align: middle;\n",
       "    }\n",
       "\n",
       "    .dataframe tbody tr th {\n",
       "        vertical-align: top;\n",
       "    }\n",
       "\n",
       "    .dataframe thead th {\n",
       "        text-align: right;\n",
       "    }\n",
       "</style>\n",
       "<table border=\"1\" class=\"dataframe\">\n",
       "  <thead>\n",
       "    <tr style=\"text-align: right;\">\n",
       "      <th></th>\n",
       "      <th>Undergraduate Major</th>\n",
       "      <th>Starting Median Salary</th>\n",
       "      <th>Mid-Career Median Salary</th>\n",
       "      <th>Mid-Career 10th Percentile Salary</th>\n",
       "      <th>Mid-Career 90th Percentile Salary</th>\n",
       "      <th>Group</th>\n",
       "    </tr>\n",
       "  </thead>\n",
       "  <tbody>\n",
       "    <tr>\n",
       "      <th>0</th>\n",
       "      <td>Accounting</td>\n",
       "      <td>46,000.00</td>\n",
       "      <td>77,100.00</td>\n",
       "      <td>42,200.00</td>\n",
       "      <td>152,000.00</td>\n",
       "      <td>Business</td>\n",
       "    </tr>\n",
       "    <tr>\n",
       "      <th>1</th>\n",
       "      <td>Aerospace Engineering</td>\n",
       "      <td>57,700.00</td>\n",
       "      <td>101,000.00</td>\n",
       "      <td>64,300.00</td>\n",
       "      <td>161,000.00</td>\n",
       "      <td>STEM</td>\n",
       "    </tr>\n",
       "    <tr>\n",
       "      <th>2</th>\n",
       "      <td>Agriculture</td>\n",
       "      <td>42,600.00</td>\n",
       "      <td>71,900.00</td>\n",
       "      <td>36,300.00</td>\n",
       "      <td>150,000.00</td>\n",
       "      <td>Business</td>\n",
       "    </tr>\n",
       "    <tr>\n",
       "      <th>3</th>\n",
       "      <td>Anthropology</td>\n",
       "      <td>36,800.00</td>\n",
       "      <td>61,500.00</td>\n",
       "      <td>33,800.00</td>\n",
       "      <td>138,000.00</td>\n",
       "      <td>HASS</td>\n",
       "    </tr>\n",
       "    <tr>\n",
       "      <th>4</th>\n",
       "      <td>Architecture</td>\n",
       "      <td>41,600.00</td>\n",
       "      <td>76,800.00</td>\n",
       "      <td>50,600.00</td>\n",
       "      <td>136,000.00</td>\n",
       "      <td>Business</td>\n",
       "    </tr>\n",
       "  </tbody>\n",
       "</table>\n",
       "</div>"
      ],
      "text/plain": [
       "     Undergraduate Major  Starting Median Salary  Mid-Career Median Salary  \\\n",
       "0             Accounting               46,000.00                 77,100.00   \n",
       "1  Aerospace Engineering               57,700.00                101,000.00   \n",
       "2            Agriculture               42,600.00                 71,900.00   \n",
       "3           Anthropology               36,800.00                 61,500.00   \n",
       "4           Architecture               41,600.00                 76,800.00   \n",
       "\n",
       "   Mid-Career 10th Percentile Salary  Mid-Career 90th Percentile Salary  \\\n",
       "0                          42,200.00                         152,000.00   \n",
       "1                          64,300.00                         161,000.00   \n",
       "2                          36,300.00                         150,000.00   \n",
       "3                          33,800.00                         138,000.00   \n",
       "4                          50,600.00                         136,000.00   \n",
       "\n",
       "      Group  \n",
       "0  Business  \n",
       "1      STEM  \n",
       "2  Business  \n",
       "3      HASS  \n",
       "4  Business  "
      ]
     },
     "execution_count": 2,
     "metadata": {},
     "output_type": "execute_result"
    }
   ],
   "source": [
    "df = pd.read_csv('salaries_by_college_major.csv')\n",
    "print('Columns:', list(df.columns))\n",
    "df.head()"
   ]
  },
  {
   "cell_type": "markdown",
   "id": "8994f058",
   "metadata": {},
   "source": [
    "## Quick data check"
   ]
  },
  {
   "cell_type": "code",
   "execution_count": 3,
   "id": "a56cca10",
   "metadata": {},
   "outputs": [
    {
     "name": "stdout",
     "output_type": "stream",
     "text": [
      "Shape: (51, 6)\n",
      "\n",
      "Missing values per column:\n",
      " Undergraduate Major                  0\n",
      "Starting Median Salary               1\n",
      "Mid-Career Median Salary             1\n",
      "Mid-Career 10th Percentile Salary    1\n",
      "Mid-Career 90th Percentile Salary    1\n",
      "Group                                1\n",
      "dtype: int64\n"
     ]
    }
   ],
   "source": [
    "print('Shape:', df.shape)\n",
    "print('\\nMissing values per column:\\n', df.isna().sum())"
   ]
  },
  {
   "cell_type": "markdown",
   "id": "71db207d",
   "metadata": {},
   "source": [
    "## Clean and ensure numeric types\n",
    "Coerce the money columns to numeric and drop rows with missing values in key fields.\n"
   ]
  },
  {
   "cell_type": "code",
   "execution_count": 4,
   "id": "4fe05e66",
   "metadata": {},
   "outputs": [
    {
     "data": {
      "text/html": [
       "<div>\n",
       "<style scoped>\n",
       "    .dataframe tbody tr th:only-of-type {\n",
       "        vertical-align: middle;\n",
       "    }\n",
       "\n",
       "    .dataframe tbody tr th {\n",
       "        vertical-align: top;\n",
       "    }\n",
       "\n",
       "    .dataframe thead th {\n",
       "        text-align: right;\n",
       "    }\n",
       "</style>\n",
       "<table border=\"1\" class=\"dataframe\">\n",
       "  <thead>\n",
       "    <tr style=\"text-align: right;\">\n",
       "      <th></th>\n",
       "      <th>Undergraduate Major</th>\n",
       "      <th>Starting Median Salary</th>\n",
       "      <th>Mid-Career Median Salary</th>\n",
       "      <th>Mid-Career 10th Percentile Salary</th>\n",
       "      <th>Mid-Career 90th Percentile Salary</th>\n",
       "      <th>Group</th>\n",
       "    </tr>\n",
       "  </thead>\n",
       "  <tbody>\n",
       "    <tr>\n",
       "      <th>45</th>\n",
       "      <td>Political Science</td>\n",
       "      <td>40,800.00</td>\n",
       "      <td>78,200.00</td>\n",
       "      <td>41,200.00</td>\n",
       "      <td>168,000.00</td>\n",
       "      <td>HASS</td>\n",
       "    </tr>\n",
       "    <tr>\n",
       "      <th>46</th>\n",
       "      <td>Psychology</td>\n",
       "      <td>35,900.00</td>\n",
       "      <td>60,400.00</td>\n",
       "      <td>31,600.00</td>\n",
       "      <td>127,000.00</td>\n",
       "      <td>HASS</td>\n",
       "    </tr>\n",
       "    <tr>\n",
       "      <th>47</th>\n",
       "      <td>Religion</td>\n",
       "      <td>34,100.00</td>\n",
       "      <td>52,000.00</td>\n",
       "      <td>29,700.00</td>\n",
       "      <td>96,400.00</td>\n",
       "      <td>HASS</td>\n",
       "    </tr>\n",
       "    <tr>\n",
       "      <th>48</th>\n",
       "      <td>Sociology</td>\n",
       "      <td>36,500.00</td>\n",
       "      <td>58,200.00</td>\n",
       "      <td>30,700.00</td>\n",
       "      <td>118,000.00</td>\n",
       "      <td>HASS</td>\n",
       "    </tr>\n",
       "    <tr>\n",
       "      <th>49</th>\n",
       "      <td>Spanish</td>\n",
       "      <td>34,000.00</td>\n",
       "      <td>53,100.00</td>\n",
       "      <td>31,000.00</td>\n",
       "      <td>96,400.00</td>\n",
       "      <td>HASS</td>\n",
       "    </tr>\n",
       "  </tbody>\n",
       "</table>\n",
       "</div>"
      ],
      "text/plain": [
       "   Undergraduate Major  Starting Median Salary  Mid-Career Median Salary  \\\n",
       "45   Political Science               40,800.00                 78,200.00   \n",
       "46          Psychology               35,900.00                 60,400.00   \n",
       "47            Religion               34,100.00                 52,000.00   \n",
       "48           Sociology               36,500.00                 58,200.00   \n",
       "49             Spanish               34,000.00                 53,100.00   \n",
       "\n",
       "    Mid-Career 10th Percentile Salary  Mid-Career 90th Percentile Salary Group  \n",
       "45                          41,200.00                         168,000.00  HASS  \n",
       "46                          31,600.00                         127,000.00  HASS  \n",
       "47                          29,700.00                          96,400.00  HASS  \n",
       "48                          30,700.00                         118,000.00  HASS  \n",
       "49                          31,000.00                          96,400.00  HASS  "
      ]
     },
     "execution_count": 4,
     "metadata": {},
     "output_type": "execute_result"
    }
   ],
   "source": [
    "cols_money = [\n",
    "    'Starting Median Salary',\n",
    "    'Mid-Career Median Salary',\n",
    "    'Mid-Career 10th Percentile Salary',\n",
    "    'Mid-Career 90th Percentile Salary',\n",
    "]\n",
    "\n",
    "for c in cols_money:\n",
    "    df[c] = pd.to_numeric(df[c], errors='coerce')\n",
    "\n",
    "clean_df = df.dropna(subset=['Undergraduate Major'] + cols_money).copy()\n",
    "clean_df.tail()"
   ]
  },
  {
   "cell_type": "markdown",
   "id": "89c1f25f",
   "metadata": {},
   "source": [
    "## Key questions"
   ]
  },
  {
   "cell_type": "code",
   "execution_count": 5,
   "id": "170ca95b",
   "metadata": {},
   "outputs": [
    {
     "data": {
      "text/plain": [
       "Undergraduate Major       Physician Assistant\n",
       "Starting Median Salary              74,300.00\n",
       "Name: 43, dtype: object"
      ]
     },
     "execution_count": 5,
     "metadata": {},
     "output_type": "execute_result"
    }
   ],
   "source": [
    "# Highest starting salary\n",
    "idx_start_max = clean_df['Starting Median Salary'].idxmax()\n",
    "clean_df.loc[idx_start_max, ['Undergraduate Major', 'Starting Median Salary']]"
   ]
  },
  {
   "cell_type": "code",
   "execution_count": 6,
   "id": "97b3a952",
   "metadata": {},
   "outputs": [
    {
     "data": {
      "text/plain": [
       "Undergraduate Major         Chemical Engineering\n",
       "Mid-Career Median Salary              107,000.00\n",
       "Name: 8, dtype: object"
      ]
     },
     "execution_count": 6,
     "metadata": {},
     "output_type": "execute_result"
    }
   ],
   "source": [
    "# Highest mid-career salary\n",
    "idx_mid_max = clean_df['Mid-Career Median Salary'].idxmax()\n",
    "clean_df.loc[idx_mid_max, ['Undergraduate Major', 'Mid-Career Median Salary']]"
   ]
  },
  {
   "cell_type": "code",
   "execution_count": 7,
   "id": "d1bc553d",
   "metadata": {},
   "outputs": [
    {
     "data": {
      "text/plain": [
       "Undergraduate Major        Spanish\n",
       "Starting Median Salary   34,000.00\n",
       "Name: 49, dtype: object"
      ]
     },
     "execution_count": 7,
     "metadata": {},
     "output_type": "execute_result"
    }
   ],
   "source": [
    "# Lowest starting salary\n",
    "idx_start_min = clean_df['Starting Median Salary'].idxmin()\n",
    "clean_df.loc[idx_start_min, ['Undergraduate Major', 'Starting Median Salary']]"
   ]
  },
  {
   "cell_type": "code",
   "execution_count": 8,
   "id": "8bfd60df",
   "metadata": {},
   "outputs": [
    {
     "data": {
      "text/plain": [
       "Undergraduate Major         Education\n",
       "Mid-Career Median Salary    52,000.00\n",
       "Name: 18, dtype: object"
      ]
     },
     "execution_count": 8,
     "metadata": {},
     "output_type": "execute_result"
    }
   ],
   "source": [
    "# Lowest mid-career salary\n",
    "idx_mid_min = clean_df['Mid-Career Median Salary'].idxmin()\n",
    "clean_df.loc[idx_mid_min, ['Undergraduate Major', 'Mid-Career Median Salary']]"
   ]
  },
  {
   "cell_type": "markdown",
   "id": "ea185752",
   "metadata": {},
   "source": [
    "## Salary spread (risk vs reward)\n",
    "Spread = 90th percentile − 10th percentile. Smaller spread ⇒ lower risk/variance.\n"
   ]
  },
  {
   "cell_type": "code",
   "execution_count": 9,
   "id": "cb4641c1",
   "metadata": {},
   "outputs": [
    {
     "data": {
      "text/html": [
       "<div>\n",
       "<style scoped>\n",
       "    .dataframe tbody tr th:only-of-type {\n",
       "        vertical-align: middle;\n",
       "    }\n",
       "\n",
       "    .dataframe tbody tr th {\n",
       "        vertical-align: top;\n",
       "    }\n",
       "\n",
       "    .dataframe thead th {\n",
       "        text-align: right;\n",
       "    }\n",
       "</style>\n",
       "<table border=\"1\" class=\"dataframe\">\n",
       "  <thead>\n",
       "    <tr style=\"text-align: right;\">\n",
       "      <th></th>\n",
       "      <th>Undergraduate Major</th>\n",
       "      <th>Spread</th>\n",
       "    </tr>\n",
       "  </thead>\n",
       "  <tbody>\n",
       "    <tr>\n",
       "      <th>0</th>\n",
       "      <td>Accounting</td>\n",
       "      <td>109,800.00</td>\n",
       "    </tr>\n",
       "    <tr>\n",
       "      <th>1</th>\n",
       "      <td>Aerospace Engineering</td>\n",
       "      <td>96,700.00</td>\n",
       "    </tr>\n",
       "    <tr>\n",
       "      <th>2</th>\n",
       "      <td>Agriculture</td>\n",
       "      <td>113,700.00</td>\n",
       "    </tr>\n",
       "    <tr>\n",
       "      <th>3</th>\n",
       "      <td>Anthropology</td>\n",
       "      <td>104,200.00</td>\n",
       "    </tr>\n",
       "    <tr>\n",
       "      <th>4</th>\n",
       "      <td>Architecture</td>\n",
       "      <td>85,400.00</td>\n",
       "    </tr>\n",
       "  </tbody>\n",
       "</table>\n",
       "</div>"
      ],
      "text/plain": [
       "     Undergraduate Major     Spread\n",
       "0             Accounting 109,800.00\n",
       "1  Aerospace Engineering  96,700.00\n",
       "2            Agriculture 113,700.00\n",
       "3           Anthropology 104,200.00\n",
       "4           Architecture  85,400.00"
      ]
     },
     "execution_count": 9,
     "metadata": {},
     "output_type": "execute_result"
    }
   ],
   "source": [
    "clean_df = clean_df.assign(\n",
    "    Spread = clean_df['Mid-Career 90th Percentile Salary'] - clean_df['Mid-Career 10th Percentile Salary']\n",
    ")\n",
    "clean_df[['Undergraduate Major', 'Spread']].head()"
   ]
  },
  {
   "cell_type": "markdown",
   "id": "ea6a03f9",
   "metadata": {},
   "source": [
    "## Lowest spread majors (lower variance)"
   ]
  },
  {
   "cell_type": "code",
   "execution_count": 10,
   "id": "979ef0a8",
   "metadata": {},
   "outputs": [
    {
     "data": {
      "text/html": [
       "<div>\n",
       "<style scoped>\n",
       "    .dataframe tbody tr th:only-of-type {\n",
       "        vertical-align: middle;\n",
       "    }\n",
       "\n",
       "    .dataframe tbody tr th {\n",
       "        vertical-align: top;\n",
       "    }\n",
       "\n",
       "    .dataframe thead th {\n",
       "        text-align: right;\n",
       "    }\n",
       "</style>\n",
       "<table border=\"1\" class=\"dataframe\">\n",
       "  <thead>\n",
       "    <tr style=\"text-align: right;\">\n",
       "      <th></th>\n",
       "      <th>Undergraduate Major</th>\n",
       "      <th>Spread</th>\n",
       "    </tr>\n",
       "  </thead>\n",
       "  <tbody>\n",
       "    <tr>\n",
       "      <th>40</th>\n",
       "      <td>Nursing</td>\n",
       "      <td>50,700.00</td>\n",
       "    </tr>\n",
       "    <tr>\n",
       "      <th>43</th>\n",
       "      <td>Physician Assistant</td>\n",
       "      <td>57,600.00</td>\n",
       "    </tr>\n",
       "    <tr>\n",
       "      <th>41</th>\n",
       "      <td>Nutrition</td>\n",
       "      <td>65,300.00</td>\n",
       "    </tr>\n",
       "    <tr>\n",
       "      <th>49</th>\n",
       "      <td>Spanish</td>\n",
       "      <td>65,400.00</td>\n",
       "    </tr>\n",
       "    <tr>\n",
       "      <th>27</th>\n",
       "      <td>Health Care Administration</td>\n",
       "      <td>66,400.00</td>\n",
       "    </tr>\n",
       "    <tr>\n",
       "      <th>47</th>\n",
       "      <td>Religion</td>\n",
       "      <td>66,700.00</td>\n",
       "    </tr>\n",
       "    <tr>\n",
       "      <th>23</th>\n",
       "      <td>Forestry</td>\n",
       "      <td>70,000.00</td>\n",
       "    </tr>\n",
       "    <tr>\n",
       "      <th>32</th>\n",
       "      <td>Interior Design</td>\n",
       "      <td>71,300.00</td>\n",
       "    </tr>\n",
       "    <tr>\n",
       "      <th>18</th>\n",
       "      <td>Education</td>\n",
       "      <td>72,700.00</td>\n",
       "    </tr>\n",
       "    <tr>\n",
       "      <th>15</th>\n",
       "      <td>Criminal Justice</td>\n",
       "      <td>74,800.00</td>\n",
       "    </tr>\n",
       "  </tbody>\n",
       "</table>\n",
       "</div>"
      ],
      "text/plain": [
       "           Undergraduate Major    Spread\n",
       "40                     Nursing 50,700.00\n",
       "43         Physician Assistant 57,600.00\n",
       "41                   Nutrition 65,300.00\n",
       "49                     Spanish 65,400.00\n",
       "27  Health Care Administration 66,400.00\n",
       "47                    Religion 66,700.00\n",
       "23                    Forestry 70,000.00\n",
       "32             Interior Design 71,300.00\n",
       "18                   Education 72,700.00\n",
       "15            Criminal Justice 74,800.00"
      ]
     },
     "execution_count": 10,
     "metadata": {},
     "output_type": "execute_result"
    }
   ],
   "source": [
    "low_risk = clean_df.sort_values('Spread', ascending=True)\n",
    "low_risk[['Undergraduate Major', 'Spread']].head(10)"
   ]
  },
  {
   "cell_type": "markdown",
   "id": "60e1f3fb",
   "metadata": {},
   "source": [
    "## Highest potential majors (by 90th percentile)"
   ]
  },
  {
   "cell_type": "code",
   "execution_count": 11,
   "id": "afdf20c1",
   "metadata": {},
   "outputs": [
    {
     "data": {
      "text/html": [
       "<div>\n",
       "<style scoped>\n",
       "    .dataframe tbody tr th:only-of-type {\n",
       "        vertical-align: middle;\n",
       "    }\n",
       "\n",
       "    .dataframe tbody tr th {\n",
       "        vertical-align: top;\n",
       "    }\n",
       "\n",
       "    .dataframe thead th {\n",
       "        text-align: right;\n",
       "    }\n",
       "</style>\n",
       "<table border=\"1\" class=\"dataframe\">\n",
       "  <thead>\n",
       "    <tr style=\"text-align: right;\">\n",
       "      <th></th>\n",
       "      <th>Undergraduate Major</th>\n",
       "      <th>Mid-Career 90th Percentile Salary</th>\n",
       "    </tr>\n",
       "  </thead>\n",
       "  <tbody>\n",
       "    <tr>\n",
       "      <th>17</th>\n",
       "      <td>Economics</td>\n",
       "      <td>210,000.00</td>\n",
       "    </tr>\n",
       "    <tr>\n",
       "      <th>22</th>\n",
       "      <td>Finance</td>\n",
       "      <td>195,000.00</td>\n",
       "    </tr>\n",
       "    <tr>\n",
       "      <th>8</th>\n",
       "      <td>Chemical Engineering</td>\n",
       "      <td>194,000.00</td>\n",
       "    </tr>\n",
       "    <tr>\n",
       "      <th>37</th>\n",
       "      <td>Math</td>\n",
       "      <td>183,000.00</td>\n",
       "    </tr>\n",
       "    <tr>\n",
       "      <th>44</th>\n",
       "      <td>Physics</td>\n",
       "      <td>178,000.00</td>\n",
       "    </tr>\n",
       "    <tr>\n",
       "      <th>36</th>\n",
       "      <td>Marketing</td>\n",
       "      <td>175,000.00</td>\n",
       "    </tr>\n",
       "    <tr>\n",
       "      <th>30</th>\n",
       "      <td>Industrial Engineering</td>\n",
       "      <td>173,000.00</td>\n",
       "    </tr>\n",
       "    <tr>\n",
       "      <th>14</th>\n",
       "      <td>Construction</td>\n",
       "      <td>171,000.00</td>\n",
       "    </tr>\n",
       "    <tr>\n",
       "      <th>42</th>\n",
       "      <td>Philosophy</td>\n",
       "      <td>168,000.00</td>\n",
       "    </tr>\n",
       "    <tr>\n",
       "      <th>19</th>\n",
       "      <td>Electrical Engineering</td>\n",
       "      <td>168,000.00</td>\n",
       "    </tr>\n",
       "  </tbody>\n",
       "</table>\n",
       "</div>"
      ],
      "text/plain": [
       "       Undergraduate Major  Mid-Career 90th Percentile Salary\n",
       "17               Economics                         210,000.00\n",
       "22                 Finance                         195,000.00\n",
       "8     Chemical Engineering                         194,000.00\n",
       "37                    Math                         183,000.00\n",
       "44                 Physics                         178,000.00\n",
       "36               Marketing                         175,000.00\n",
       "30  Industrial Engineering                         173,000.00\n",
       "14            Construction                         171,000.00\n",
       "42              Philosophy                         168,000.00\n",
       "19  Electrical Engineering                         168,000.00"
      ]
     },
     "execution_count": 11,
     "metadata": {},
     "output_type": "execute_result"
    }
   ],
   "source": [
    "highest_potential = clean_df.sort_values('Mid-Career 90th Percentile Salary', ascending=False)\n",
    "highest_potential[['Undergraduate Major', 'Mid-Career 90th Percentile Salary']].head(10)"
   ]
  },
  {
   "cell_type": "markdown",
   "id": "fabe4356",
   "metadata": {},
   "source": [
    "## Highest spread majors (higher variance)"
   ]
  },
  {
   "cell_type": "code",
   "execution_count": 12,
   "id": "f49eae33",
   "metadata": {},
   "outputs": [
    {
     "data": {
      "text/html": [
       "<div>\n",
       "<style scoped>\n",
       "    .dataframe tbody tr th:only-of-type {\n",
       "        vertical-align: middle;\n",
       "    }\n",
       "\n",
       "    .dataframe tbody tr th {\n",
       "        vertical-align: top;\n",
       "    }\n",
       "\n",
       "    .dataframe thead th {\n",
       "        text-align: right;\n",
       "    }\n",
       "</style>\n",
       "<table border=\"1\" class=\"dataframe\">\n",
       "  <thead>\n",
       "    <tr style=\"text-align: right;\">\n",
       "      <th></th>\n",
       "      <th>Undergraduate Major</th>\n",
       "      <th>Spread</th>\n",
       "    </tr>\n",
       "  </thead>\n",
       "  <tbody>\n",
       "    <tr>\n",
       "      <th>17</th>\n",
       "      <td>Economics</td>\n",
       "      <td>159,400.00</td>\n",
       "    </tr>\n",
       "    <tr>\n",
       "      <th>22</th>\n",
       "      <td>Finance</td>\n",
       "      <td>147,800.00</td>\n",
       "    </tr>\n",
       "    <tr>\n",
       "      <th>37</th>\n",
       "      <td>Math</td>\n",
       "      <td>137,800.00</td>\n",
       "    </tr>\n",
       "    <tr>\n",
       "      <th>36</th>\n",
       "      <td>Marketing</td>\n",
       "      <td>132,900.00</td>\n",
       "    </tr>\n",
       "    <tr>\n",
       "      <th>42</th>\n",
       "      <td>Philosophy</td>\n",
       "      <td>132,500.00</td>\n",
       "    </tr>\n",
       "    <tr>\n",
       "      <th>45</th>\n",
       "      <td>Political Science</td>\n",
       "      <td>126,800.00</td>\n",
       "    </tr>\n",
       "    <tr>\n",
       "      <th>8</th>\n",
       "      <td>Chemical Engineering</td>\n",
       "      <td>122,100.00</td>\n",
       "    </tr>\n",
       "    <tr>\n",
       "      <th>44</th>\n",
       "      <td>Physics</td>\n",
       "      <td>122,000.00</td>\n",
       "    </tr>\n",
       "    <tr>\n",
       "      <th>33</th>\n",
       "      <td>International Relations</td>\n",
       "      <td>118,800.00</td>\n",
       "    </tr>\n",
       "    <tr>\n",
       "      <th>16</th>\n",
       "      <td>Drama</td>\n",
       "      <td>116,300.00</td>\n",
       "    </tr>\n",
       "  </tbody>\n",
       "</table>\n",
       "</div>"
      ],
      "text/plain": [
       "        Undergraduate Major     Spread\n",
       "17                Economics 159,400.00\n",
       "22                  Finance 147,800.00\n",
       "37                     Math 137,800.00\n",
       "36                Marketing 132,900.00\n",
       "42               Philosophy 132,500.00\n",
       "45        Political Science 126,800.00\n",
       "8      Chemical Engineering 122,100.00\n",
       "44                  Physics 122,000.00\n",
       "33  International Relations 118,800.00\n",
       "16                    Drama 116,300.00"
      ]
     },
     "execution_count": 12,
     "metadata": {},
     "output_type": "execute_result"
    }
   ],
   "source": [
    "high_risk = clean_df.sort_values('Spread', ascending=False)\n",
    "high_risk[['Undergraduate Major', 'Spread']].head(10)"
   ]
  },
  {
   "cell_type": "markdown",
   "id": "d24bf5c2",
   "metadata": {},
   "source": [
    "## Group averages\n",
    "Average salaries and spread by Group.\n"
   ]
  },
  {
   "cell_type": "code",
   "execution_count": 13,
   "id": "5d36d498",
   "metadata": {},
   "outputs": [
    {
     "data": {
      "text/html": [
       "<div>\n",
       "<style scoped>\n",
       "    .dataframe tbody tr th:only-of-type {\n",
       "        vertical-align: middle;\n",
       "    }\n",
       "\n",
       "    .dataframe tbody tr th {\n",
       "        vertical-align: top;\n",
       "    }\n",
       "\n",
       "    .dataframe thead th {\n",
       "        text-align: right;\n",
       "    }\n",
       "</style>\n",
       "<table border=\"1\" class=\"dataframe\">\n",
       "  <thead>\n",
       "    <tr style=\"text-align: right;\">\n",
       "      <th></th>\n",
       "      <th>Group</th>\n",
       "      <th>Starting Median Salary</th>\n",
       "      <th>Mid-Career Median Salary</th>\n",
       "      <th>Mid-Career 10th Percentile Salary</th>\n",
       "      <th>Mid-Career 90th Percentile Salary</th>\n",
       "      <th>Spread</th>\n",
       "    </tr>\n",
       "  </thead>\n",
       "  <tbody>\n",
       "    <tr>\n",
       "      <th>2</th>\n",
       "      <td>STEM</td>\n",
       "      <td>53,862.50</td>\n",
       "      <td>90,812.50</td>\n",
       "      <td>56,025.00</td>\n",
       "      <td>157,625.00</td>\n",
       "      <td>101,600.00</td>\n",
       "    </tr>\n",
       "    <tr>\n",
       "      <th>0</th>\n",
       "      <td>Business</td>\n",
       "      <td>44,633.33</td>\n",
       "      <td>75,083.33</td>\n",
       "      <td>43,566.67</td>\n",
       "      <td>147,525.00</td>\n",
       "      <td>103,958.33</td>\n",
       "    </tr>\n",
       "    <tr>\n",
       "      <th>1</th>\n",
       "      <td>HASS</td>\n",
       "      <td>37,186.36</td>\n",
       "      <td>62,968.18</td>\n",
       "      <td>34,145.45</td>\n",
       "      <td>129,363.64</td>\n",
       "      <td>95,218.18</td>\n",
       "    </tr>\n",
       "  </tbody>\n",
       "</table>\n",
       "</div>"
      ],
      "text/plain": [
       "      Group  Starting Median Salary  Mid-Career Median Salary  \\\n",
       "2      STEM               53,862.50                 90,812.50   \n",
       "0  Business               44,633.33                 75,083.33   \n",
       "1      HASS               37,186.36                 62,968.18   \n",
       "\n",
       "   Mid-Career 10th Percentile Salary  Mid-Career 90th Percentile Salary  \\\n",
       "2                          56,025.00                         157,625.00   \n",
       "0                          43,566.67                         147,525.00   \n",
       "1                          34,145.45                         129,363.64   \n",
       "\n",
       "      Spread  \n",
       "2 101,600.00  \n",
       "0 103,958.33  \n",
       "1  95,218.18  "
      ]
     },
     "execution_count": 13,
     "metadata": {},
     "output_type": "execute_result"
    }
   ],
   "source": [
    "group_summary = (clean_df\n",
    "                 .groupby('Group', as_index=False)[cols_money + ['Spread']]\n",
    "                 .mean(numeric_only=True)\n",
    "                 .sort_values('Mid-Career Median Salary', ascending=False))\n",
    "group_summary"
   ]
  },
  {
   "cell_type": "markdown",
   "id": "0c91d04d",
   "metadata": {},
   "source": [
    "## Visualizations"
   ]
  },
  {
   "cell_type": "markdown",
   "id": "d1aec80f",
   "metadata": {},
   "source": [
    "### Top 10 Majors by Starting Median Salary"
   ]
  },
  {
   "cell_type": "code",
   "execution_count": 14,
   "id": "738f88d7",
   "metadata": {},
   "outputs": [
    {
     "data": {
      "image/png": "[encoded data removed]",
      "text/plain": [
       "<Figure size 1000x600 with 1 Axes>"
      ]
     },
     "metadata": {},
     "output_type": "display_data"
    }
   ],
   "source": [
    "top_start = clean_df.sort_values('Starting Median Salary', ascending=False).head(10)\n",
    "\n",
    "plt.figure(figsize=(10, 6))\n",
    "plt.barh(top_start['Undergraduate Major'], top_start['Starting Median Salary'])\n",
    "plt.xlabel('Starting Median Salary ($)')\n",
    "plt.title('Top 10 Majors by Starting Median Salary')\n",
    "plt.gca().invert_yaxis()\n",
    "plt.show()"
   ]
  },
  {
   "cell_type": "markdown",
   "id": "5ea8cf4e",
   "metadata": {},
   "source": [
    "### Distribution of Salary Spread (P90 − P10)"
   ]
  },
  {
   "cell_type": "code",
   "execution_count": 15,
   "id": "f27e8e97",
   "metadata": {},
   "outputs": [
    {
     "data": {
      "image/png": "[encoded data removed]",
      "text/plain": [
       "<Figure size 1000x600 with 1 Axes>"
      ]
     },
     "metadata": {},
     "output_type": "display_data"
    }
   ],
   "source": [
    "plt.figure(figsize=(10, 6))\n",
    "plt.hist(clean_df['Spread'].dropna(), bins=20, edgecolor='black')\n",
    "plt.xlabel('Salary Spread ($)')\n",
    "plt.ylabel('Number of Majors')\n",
    "plt.title('Distribution of Salary Spread')\n",
    "plt.show()"
   ]
  }
 ],
 "metadata": {
  "kernelspec": {
   "display_name": "Python 3",
   "language": "python",
   "name": "python3"
  },
  "language_info": {
   "codemirror_mode": {
    "name": "ipython",
    "version": 3
   },
   "file_extension": ".py",
   "mimetype": "text/x-python",
   "name": "python",
   "nbconvert_exporter": "python",
   "pygments_lexer": "ipython3",
   "version": "3.9.0"
  }
 },
 "nbformat": 4,
 "nbformat_minor": 5
}
