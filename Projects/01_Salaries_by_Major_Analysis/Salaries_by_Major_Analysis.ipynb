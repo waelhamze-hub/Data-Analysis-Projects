{
 "cells": [
  {
   "cell_type": "markdown",
   "id": "3a1caa9a",
   "metadata": {},
   "source": [
    "# Salaries by College Major — Analysis Notebook (Schema: Start, Mid, P10, P90)"
   ]
  },
  {
   "cell_type": "code",
   "execution_count": null,
   "id": "0e63cbf8",
   "metadata": {},
   "outputs": [],
   "source": [
    "import pandas as pd\n",
    "pd.options.display.float_format = '{:,.2f}'.format"
   ]
  },
  {
   "cell_type": "markdown",
   "id": "9ab16ab9",
   "metadata": {},
   "source": [
    "## Load the dataset"
   ]
  },
  {
   "cell_type": "code",
   "execution_count": null,
   "id": "b18ca906",
   "metadata": {},
   "outputs": [],
   "source": [
    "df = pd.read_csv('salaries_by_college_major.csv')\n",
    "print(\"Columns:\", list(df.columns))\n",
    "df.head()"
   ]
  },
  {
   "cell_type": "markdown",
   "id": "03d1d181",
   "metadata": {},
   "source": [
    "## Quick data check"
   ]
  },
  {
   "cell_type": "code",
   "execution_count": null,
   "id": "169dd16a",
   "metadata": {},
   "outputs": [],
   "source": [
    "print(\"Shape:\", df.shape)\n",
    "print(\"\\nMissing values per column:\\n\", df.isna().sum())"
   ]
  },
  {
   "cell_type": "markdown",
   "id": "ffb30d4e",
   "metadata": {},
   "source": [
    "## Clean and ensure numeric types\n",
    "Your CSV appears numeric already; we coerce to be safe."
   ]
  },
  {
   "cell_type": "code",
   "execution_count": null,
   "id": "bb16b798",
   "metadata": {},
   "outputs": [],
   "source": [
    "cols_money = [\n",
    "    'Starting Median Salary',\n",
    "    'Mid-Career Median Salary',\n",
    "    'Mid-Career 10th Percentile Salary',\n",
    "    'Mid-Career 90th Percentile Salary',\n",
    "]\n",
    "for c in cols_money:\n",
    "    df[c] = pd.to_numeric(df[c], errors='coerce')\n",
    "\n",
    "clean_df = df.dropna(subset=['Undergraduate Major'] + cols_money).copy()\n",
    "clean_df.tail()"
   ]
  },
  {
   "cell_type": "markdown",
   "id": "a8811757",
   "metadata": {},
   "source": [
    "## Key questions"
   ]
  },
  {
   "cell_type": "code",
   "execution_count": null,
   "id": "17184dd5",
   "metadata": {},
   "outputs": [],
   "source": [
    "idx_start_max = clean_df['Starting Median Salary'].idxmax()\n",
    "clean_df.loc[idx_start_max, ['Undergraduate Major', 'Starting Median Salary']]"
   ]
  },
  {
   "cell_type": "code",
   "execution_count": null,
   "id": "be375e58",
   "metadata": {},
   "outputs": [],
   "source": [
    "idx_mid_max = clean_df['Mid-Career Median Salary'].idxmax()\n",
    "clean_df.loc[idx_mid_max, ['Undergraduate Major', 'Mid-Career Median Salary']]"
   ]
  },
  {
   "cell_type": "code",
   "execution_count": null,
   "id": "80dca379",
   "metadata": {},
   "outputs": [],
   "source": [
    "idx_start_min = clean_df['Starting Median Salary'].idxmin()\n",
    "clean_df.loc[idx_start_min, ['Undergraduate Major', 'Starting Median Salary']]"
   ]
  },
  {
   "cell_type": "code",
   "execution_count": null,
   "id": "8e1175b8",
   "metadata": {},
   "outputs": [],
   "source": [
    "idx_mid_min = clean_df['Mid-Career Median Salary'].idxmin()\n",
    "clean_df.loc[idx_mid_min, ['Undergraduate Major', 'Mid-Career Median Salary']]"
   ]
  },
  {
   "cell_type": "markdown",
   "id": "6967cc40",
   "metadata": {},
   "source": [
    "## Salary spread (risk vs reward)\n",
    "Spread = 90th percentile − 10th percentile."
   ]
  },
  {
   "cell_type": "code",
   "execution_count": null,
   "id": "602494ec",
   "metadata": {},
   "outputs": [],
   "source": [
    "clean_df = clean_df.assign(\n",
    "    Spread = clean_df['Mid-Career 90th Percentile Salary'] - clean_df['Mid-Career 10th Percentile Salary']\n",
    ")\n",
    "clean_df[['Undergraduate Major', 'Spread']].head()"
   ]
  },
  {
   "cell_type": "markdown",
   "id": "3b862bdf",
   "metadata": {},
   "source": [
    "## Lowest spread majors (lower variance)"
   ]
  },
  {
   "cell_type": "code",
   "execution_count": null,
   "id": "a432afc3",
   "metadata": {},
   "outputs": [],
   "source": [
    "low_risk = clean_df.sort_values('Spread', ascending=True)\n",
    "low_risk[['Undergraduate Major', 'Spread']].head(10)"
   ]
  },
  {
   "cell_type": "markdown",
   "id": "47037783",
   "metadata": {},
   "source": [
    "## Highest potential majors (by 90th percentile)"
   ]
  },
  {
   "cell_type": "code",
   "execution_count": null,
   "id": "a8fc25e9",
   "metadata": {},
   "outputs": [],
   "source": [
    "highest_potential = clean_df.sort_values('Mid-Career 90th Percentile Salary', ascending=False)\n",
    "highest_potential[['Undergraduate Major','Mid-Career 90th Percentile Salary']].head(10)"
   ]
  },
  {
   "cell_type": "markdown",
   "id": "62ae983a",
   "metadata": {},
   "source": [
    "## Highest spread majors (higher variance)"
   ]
  },
  {
   "cell_type": "code",
   "execution_count": null,
   "id": "5d623af4",
   "metadata": {},
   "outputs": [],
   "source": [
    "high_risk = clean_df.sort_values('Spread', ascending=False)\n",
    "high_risk[['Undergraduate Major','Spread']].head(10)"
   ]
  },
  {
   "cell_type": "markdown",
   "id": "c2cc48f4",
   "metadata": {},
   "source": [
    "## Group averages\n",
    "Average salaries and spread by Group."
   ]
  },
  {
   "cell_type": "code",
   "execution_count": null,
   "id": "b6ffafee",
   "metadata": {},
   "outputs": [],
   "source": [
    "group_summary = (clean_df\n",
    "                 .groupby('Group', as_index=False)[cols_money + ['Spread']]\n",
    "                 .mean(numeric_only=True)\n",
    "                 .sort_values('Mid-Career Median Salary', ascending=False))\n",
    "group_summary"
   ]
  },
  {
   "cell_type": "markdown",
   "id": "b19ec116",
   "metadata": {},
   "source": [
    "## Visualizations"
   ]
  },
  {
   "cell_type": "code",
   "execution_count": null,
   "id": "f26d325f",
   "metadata": {},
   "outputs": [],
   "source": [
    "import matplotlib.pyplot as plt"
   ]
  },
  {
   "cell_type": "markdown",
   "id": "179c3102",
   "metadata": {},
   "source": [
    "### Top 10 Majors by Starting Median Salary"
   ]
  },
  {
   "cell_type": "code",
   "execution_count": null,
   "id": "4197cf65",
   "metadata": {},
   "outputs": [],
   "source": [
    "top_start = clean_df.sort_values('Starting Median Salary', ascending=False).head(10)\n",
    "\n",
    "plt.figure(figsize=(10, 6))\n",
    "plt.barh(top_start['Undergraduate Major'], top_start['Starting Median Salary'])\n",
    "plt.xlabel(\"Starting Median Salary ($)\")\n",
    "plt.title(\"Top 10 Majors by Starting Median Salary\")\n",
    "plt.gca().invert_yaxis()\n",
    "plt.show()"
   ]
  },
  {
   "cell_type": "markdown",
   "id": "2cbcb009",
   "metadata": {},
   "source": [
    "### Distribution of Salary Spread (P90 − P10)"
   ]
  },
  {
   "cell_type": "code",
   "execution_count": null,
   "id": "f58a432a",
   "metadata": {},
   "outputs": [],
   "source": [
    "plt.figure(figsize=(10, 6))\n",
    "plt.hist(clean_df['Spread'].dropna(), bins=20, edgecolor='black')\n",
    "plt.xlabel(\"Salary Spread ($)\")\n",
    "plt.ylabel(\"Number of Majors\")\n",
    "plt.title(\"Distribution of Salary Spread\")\n",
    "plt.show()"
   ]
  },
  {
   "cell_type": "markdown",
   "id": "579dde43",
   "metadata": {},
   "source": [
    "## (Optional) Save cleaned dataset"
   ]
  },
  {
   "cell_type": "code",
   "execution_count": null,
   "id": "0ab53555",
   "metadata": {},
   "outputs": [],
   "source": [
    "# clean_df.to_csv('salaries_by_college_major_clean.csv', index=False)"
   ]
  }
 ],
 "metadata": {},
 "nbformat": 4,
 "nbformat_minor": 5
}
