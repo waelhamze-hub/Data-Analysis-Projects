{
 "cells": [
  {
   "cell_type": "markdown",
   "id": "d42f0f2f",
   "metadata": {},
   "source": [
    "\n",
    "# SALARIES BY COLLEGE MAJOR — EARNINGS, RISK & CAREER POTENTIAL\n",
    "\n",
    "This notebook explores a dataset of **starting and mid-career salaries by U.S. college major**.  \n",
    "We aim to answer:\n",
    "\n",
    "- Which majors have the highest starting and mid-career salaries?\n",
    "- Which majors are the lowest paid?\n",
    "- How big is the salary spread (90th − 10th percentile), i.e., risk vs reward?\n",
    "- How do different broad fields (STEM, Business, Humanities) compare?\n",
    "\n",
    "---\n"
   ]
  },
  {
   "cell_type": "markdown",
   "id": "44222ed3",
   "metadata": {},
   "source": [
    "# SALARIES BY COLLEGE MAJOR — EARNINGS, RISK & CAREER POTENTIAL\n",
    "\n",
    "A concise analysis of starting and mid-career salaries by U.S. college major, focusing on earnings, risk (spread), and potential.\n"
   ]
  },
  {
   "cell_type": "code",
   "execution_count": null,
   "id": "66472700",
   "metadata": {},
   "outputs": [],
   "source": [
    "import pandas as pd\n",
    "import matplotlib.pyplot as plt\n",
    "\n",
    "pd.options.display.float_format = '{:,.2f}'.format"
   ]
  },
  {
   "cell_type": "markdown",
   "id": "1304908d",
   "metadata": {},
   "source": [
    "## Load the dataset"
   ]
  },
  {
   "cell_type": "code",
   "execution_count": null,
   "id": "a8ba199e",
   "metadata": {},
   "outputs": [],
   "source": [
    "df = pd.read_csv('salaries_by_college_major.csv')\n",
    "print('Columns:', list(df.columns))\n",
    "df.head()"
   ]
  },
  {
   "cell_type": "markdown",
   "id": "8994f058",
   "metadata": {},
   "source": [
    "## Quick data check"
   ]
  },
  {
   "cell_type": "code",
   "execution_count": null,
   "id": "a56cca10",
   "metadata": {},
   "outputs": [],
   "source": [
    "print('Shape:', df.shape)\n",
    "print('\\nMissing values per column:\\n', df.isna().sum())"
   ]
  },
  {
   "cell_type": "markdown",
   "id": "71db207d",
   "metadata": {},
   "source": [
    "## Clean and ensure numeric types\n",
    "Coerce the money columns to numeric and drop rows with missing values in key fields.\n"
   ]
  },
  {
   "cell_type": "code",
   "execution_count": null,
   "id": "4fe05e66",
   "metadata": {},
   "outputs": [],
   "source": [
    "cols_money = [\n",
    "    'Starting Median Salary',\n",
    "    'Mid-Career Median Salary',\n",
    "    'Mid-Career 10th Percentile Salary',\n",
    "    'Mid-Career 90th Percentile Salary',\n",
    "]\n",
    "\n",
    "for c in cols_money:\n",
    "    df[c] = pd.to_numeric(df[c], errors='coerce')\n",
    "\n",
    "clean_df = df.dropna(subset=['Undergraduate Major'] + cols_money).copy()\n",
    "clean_df.tail()"
   ]
  },
  {
   "cell_type": "markdown",
   "id": "89c1f25f",
   "metadata": {},
   "source": [
    "## Key questions"
   ]
  },
  {
   "cell_type": "code",
   "execution_count": null,
   "id": "170ca95b",
   "metadata": {},
   "outputs": [],
   "source": [
    "# Highest starting salary\n",
    "idx_start_max = clean_df['Starting Median Salary'].idxmax()\n",
    "clean_df.loc[idx_start_max, ['Undergraduate Major', 'Starting Median Salary']]"
   ]
  },
  {
   "cell_type": "code",
   "execution_count": null,
   "id": "97b3a952",
   "metadata": {},
   "outputs": [],
   "source": [
    "# Highest mid-career salary\n",
    "idx_mid_max = clean_df['Mid-Career Median Salary'].idxmax()\n",
    "clean_df.loc[idx_mid_max, ['Undergraduate Major', 'Mid-Career Median Salary']]"
   ]
  },
  {
   "cell_type": "code",
   "execution_count": null,
   "id": "d1bc553d",
   "metadata": {},
   "outputs": [],
   "source": [
    "# Lowest starting salary\n",
    "idx_start_min = clean_df['Starting Median Salary'].idxmin()\n",
    "clean_df.loc[idx_start_min, ['Undergraduate Major', 'Starting Median Salary']]"
   ]
  },
  {
   "cell_type": "code",
   "execution_count": null,
   "id": "8bfd60df",
   "metadata": {},
   "outputs": [],
   "source": [
    "# Lowest mid-career salary\n",
    "idx_mid_min = clean_df['Mid-Career Median Salary'].idxmin()\n",
    "clean_df.loc[idx_mid_min, ['Undergraduate Major', 'Mid-Career Median Salary']]"
   ]
  },
  {
   "cell_type": "markdown",
   "id": "ea185752",
   "metadata": {},
   "source": [
    "## Salary spread (risk vs reward)\n",
    "Spread = 90th percentile − 10th percentile. Smaller spread ⇒ lower risk/variance.\n"
   ]
  },
  {
   "cell_type": "code",
   "execution_count": null,
   "id": "cb4641c1",
   "metadata": {},
   "outputs": [],
   "source": [
    "clean_df = clean_df.assign(\n",
    "    Spread = clean_df['Mid-Career 90th Percentile Salary'] - clean_df['Mid-Career 10th Percentile Salary']\n",
    ")\n",
    "clean_df[['Undergraduate Major', 'Spread']].head()"
   ]
  },
  {
   "cell_type": "markdown",
   "id": "ea6a03f9",
   "metadata": {},
   "source": [
    "## Lowest spread majors (lower variance)"
   ]
  },
  {
   "cell_type": "code",
   "execution_count": null,
   "id": "979ef0a8",
   "metadata": {},
   "outputs": [],
   "source": [
    "low_risk = clean_df.sort_values('Spread', ascending=True)\n",
    "low_risk[['Undergraduate Major', 'Spread']].head(10)"
   ]
  },
  {
   "cell_type": "markdown",
   "id": "60e1f3fb",
   "metadata": {},
   "source": [
    "## Highest potential majors (by 90th percentile)"
   ]
  },
  {
   "cell_type": "code",
   "execution_count": null,
   "id": "afdf20c1",
   "metadata": {},
   "outputs": [],
   "source": [
    "highest_potential = clean_df.sort_values('Mid-Career 90th Percentile Salary', ascending=False)\n",
    "highest_potential[['Undergraduate Major', 'Mid-Career 90th Percentile Salary']].head(10)"
   ]
  },
  {
   "cell_type": "markdown",
   "id": "fabe4356",
   "metadata": {},
   "source": [
    "## Highest spread majors (higher variance)"
   ]
  },
  {
   "cell_type": "code",
   "execution_count": null,
   "id": "f49eae33",
   "metadata": {},
   "outputs": [],
   "source": [
    "high_risk = clean_df.sort_values('Spread', ascending=False)\n",
    "high_risk[['Undergraduate Major', 'Spread']].head(10)"
   ]
  },
  {
   "cell_type": "markdown",
   "id": "d24bf5c2",
   "metadata": {},
   "source": [
    "## Group averages\n",
    "Average salaries and spread by Group.\n"
   ]
  },
  {
   "cell_type": "code",
   "execution_count": null,
   "id": "5d36d498",
   "metadata": {},
   "outputs": [],
   "source": [
    "group_summary = (clean_df\n",
    "                 .groupby('Group', as_index=False)[cols_money + ['Spread']]\n",
    "                 .mean(numeric_only=True)\n",
    "                 .sort_values('Mid-Career Median Salary', ascending=False))\n",
    "group_summary"
   ]
  },
  {
   "cell_type": "markdown",
   "id": "0c91d04d",
   "metadata": {},
   "source": [
    "## Visualizations"
   ]
  },
  {
   "cell_type": "markdown",
   "id": "d1aec80f",
   "metadata": {},
   "source": [
    "### Top 10 Majors by Starting Median Salary"
   ]
  },
  {
   "cell_type": "code",
   "execution_count": null,
   "id": "738f88d7",
   "metadata": {},
   "outputs": [],
   "source": [
    "top_start = clean_df.sort_values('Starting Median Salary', ascending=False).head(10)\n",
    "\n",
    "plt.figure(figsize=(10, 6))\n",
    "plt.barh(top_start['Undergraduate Major'], top_start['Starting Median Salary'])\n",
    "plt.xlabel('Starting Median Salary ($)')\n",
    "plt.title('Top 10 Majors by Starting Median Salary')\n",
    "plt.gca().invert_yaxis()\n",
    "plt.show()"
   ]
  },
  {
   "cell_type": "markdown",
   "id": "5ea8cf4e",
   "metadata": {},
   "source": [
    "### Distribution of Salary Spread (P90 − P10)"
   ]
  },
  {
   "cell_type": "code",
   "execution_count": null,
   "id": "f27e8e97",
   "metadata": {},
   "outputs": [],
   "source": [
    "plt.figure(figsize=(10, 6))\n",
    "plt.hist(clean_df['Spread'].dropna(), bins=20, edgecolor='black')\n",
    "plt.xlabel('Salary Spread ($)')\n",
    "plt.ylabel('Number of Majors')\n",
    "plt.title('Distribution of Salary Spread')\n",
    "plt.show()"
   ]
  },
  {
   "cell_type": "markdown",
   "id": "fe4bd6be",
   "metadata": {},
   "source": [
    "## (Optional) Save cleaned dataset"
   ]
  },
  {
   "cell_type": "code",
   "execution_count": null,
   "id": "e4b578a8",
   "metadata": {},
   "outputs": [],
   "source": [
    "# clean_df.to_csv('salaries_by_college_major_clean.csv', index=False)"
   ]
  },
  {
   "cell_type": "markdown",
   "id": "c2a99664",
   "metadata": {},
   "source": [
    "\n",
    "---\n",
    "\n",
    "## 📌 Conclusion & Insights\n",
    "\n",
    "From the analysis we observed:\n",
    "\n",
    "- **STEM majors** dominate both starting and mid-career salaries, especially Engineering.  \n",
    "- **Humanities and Education majors** tend to earn less across the board.  \n",
    "- Some majors show **high salary spread**, which means high risk/reward — top earners do very well, but the bottom earners don’t.  \n",
    "- On average, **Engineering groups** lead in median salaries, while Humanities lag behind.  \n",
    "\n",
    "This simple analysis highlights how a college major can significantly influence both early career opportunities and long-term earning potential.\n"
   ]
  }
 ],
 "metadata": {},
 "nbformat": 4,
 "nbformat_minor": 5
}
